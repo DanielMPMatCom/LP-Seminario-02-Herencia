{
 "cells": [
  {
   "cell_type": "markdown",
   "metadata": {},
   "source": [
    "# Implementación usando Python"
   ]
  },
  {
   "cell_type": "code",
   "execution_count": null,
   "metadata": {},
   "outputs": [],
   "source": [
    "class Persona:\n",
    "    def __init__(self, nombre):\n",
    "        self.Nombre = nombre\n",
    "\n",
    "\n",
    "class Plantilla(Persona):\n",
    "    def __init__(self, nombre, salario, horasClase):\n",
    "        super().__init__(nombre)\n",
    "        self.Salario = salario\n",
    "        self.HorasClase = horasClase\n",
    "\n",
    "\n",
    "class Asalariado:\n",
    "    def cobrar_salario(self):\n",
    "        print(\"Cobrando salario de asalariado\")\n",
    "\n",
    "\n",
    "class Docente:\n",
    "    def dar_clase(self):\n",
    "        print(\"Dando clase de docente\")\n",
    "\n",
    "\n",
    "class Alumno:\n",
    "    def recibir_clase(self):\n",
    "        print(\"Recibiendo clase de alumno\")\n",
    "\n",
    "\n",
    "class Trabajador(Plantilla, Asalariado):\n",
    "    def __init__(self, nombre, salario, horasClase):\n",
    "        super().__init__(nombre, salario, horasClase)\n",
    "\n",
    "    def cobrar_salario(self):\n",
    "        print(\"Cobrando salario de trabajador\")\n",
    "\n",
    "\n",
    "class Profesor(Trabajador):\n",
    "    def __init__(self, nombre, salario, horasClase):\n",
    "        super().__init__(nombre, salario, horasClase)\n",
    "\n",
    "    def impartir_clase(self):\n",
    "        print(\"Impartiendo clase de profesor\")\n",
    "\n",
    "\n",
    "class ProfesorAdiestrado(Profesor, Alumno):\n",
    "    def __init__(self, nombre, salario, horasClase):\n",
    "        super().__init__(nombre, salario, horasClase)\n",
    "\n",
    "    def recibir_clase(self):\n",
    "        print(\"Recibiendo clase de profesor adiestrado\")\n",
    "\n",
    "\n",
    "class Estudiante(Plantilla, Alumno):\n",
    "    def __init__(self, nombre, salario, horasClase):\n",
    "        super().__init__(nombre, salario, horasClase)\n",
    "\n",
    "    def cobrar_salario_estudiante(self):\n",
    "        print(\"Cobrando salario de estudiante\")\n",
    "\n",
    "\n",
    "class AlumnoAyudante(Estudiante, Docente, Asalariado):\n",
    "    def __init__(self, nombre, salario_profesor, horasClase):\n",
    "        super().__init__(nombre, 0, horasClase)\n",
    "        self.SalarioProfesor = salario_profesor\n",
    "\n",
    "    def cobrar_salario(self):\n",
    "        print(\"Cobrando salario de alumno ayudante\")"
   ]
  },
  {
   "cell_type": "markdown",
   "metadata": {},
   "source": [
    "## Probando la implementación"
   ]
  },
  {
   "cell_type": "code",
   "execution_count": null,
   "metadata": {},
   "outputs": [],
   "source": [
    "def testCobrarSalario(profesor: Profesor):\n",
    "    print(\n",
    "        f\"Cobrar Salario de {profesor.Nombre} siendo tratado como profesor, es profesor? {isinstance(profesor, Profesor)}\"\n",
    "        ## False\n",
    "    )\n",
    "    profesor.cobrar_salario() # Cobrando salario de Alumno Ayudante a pesar de no ser Profesor\n",
    "\n",
    "\n",
    "def aumentoDeSalarioParaTrabajadores(trabajador: Trabajador):\n",
    "    trabajador.Salario += 1000\n",
    "    print(\n",
    "        f\"El salario del trabajador {trabajador.Nombre} ha aumentado a {trabajador.Salario}\"\n",
    "    )\n",
    "    # El salario del trabajador Alumno Ayudante 1 ha aumentado a 1000 (\n",
    "    # prodriamos pensar que no debería aumentar el salario de un alumno ayudante, ya que no es un trabajador\n",
    "\n",
    "\n",
    "def main():\n",
    "    AlumnoAyudante1 = AlumnoAyudante(\"Alumno Ayudante 1\", 1000, 10)\n",
    "    testCobrarSalario(AlumnoAyudante1)\n",
    "    aumentoDeSalarioParaTrabajadores(AlumnoAyudante1)\n",
    "    \n",
    "    print(\n",
    "        f\"Ayudante es subclase de estudiante? {issubclass(AlumnoAyudante1.__class__, Estudiante)}\"\n",
    "    )\n",
    "    print(\n",
    "        f\"Ayudante es subclase de docente? {issubclass(AlumnoAyudante1.__class__, Docente)}\"\n",
    "    )\n",
    "    print(\n",
    "        f\"Ayudante es subclase de asalariado? {issubclass(AlumnoAyudante1.__class__, Asalariado)}\"\n",
    "    )\n",
    "    print(\n",
    "        f\"Ayudante es subclase de trabajador? {issubclass(AlumnoAyudante1.__class__, Trabajador)}\"\n",
    "    )\n",
    "   \n",
    "main()"
   ]
  },
  {
   "cell_type": "markdown",
   "metadata": {},
   "source": [
    "A pesar que Alumno Ayudante no sea trabajador, ni herede de la clase Trabajador, se puede utilizar el método AumentoDeSalarioParaTrabajadores el cual ademas modifica el atributo salario de Alumno Ayudante, de igual manera pasa con CobrarSalario.\n"
   ]
  },
  {
   "cell_type": "markdown",
   "metadata": {},
   "source": [
    "En Python tambien ocurren problemas de ambiguedad, veamos el siguiente ejemplo basando en el escenario planteado en C#:\n",
    "\n",
    "**Escenario:** Los alumnos becados tienen asignado un **bus escolar** para ellos, y los profesores tienen asignado **otro bus**,\n",
    "ambos protocolos de coger el bus **son diferentes**, pero el nombre del metodo es el mismo. Luego de un tiempo, la dirección decide \n",
    "que ambos grupos de personas pueden coger **el bus que deseen**, por lo que se incluye que se herede de ambas clases."
   ]
  },
  {
   "cell_type": "code",
   "execution_count": null,
   "metadata": {},
   "outputs": [],
   "source": [
    "class CogerBus:\n",
    "    def CogerBus(self):\n",
    "        print(\"Cogiendo bus\")\n",
    "\n",
    "\n",
    "class BusProfesores(CogerBus):\n",
    "    def CogerBus(self):\n",
    "        print(\"Cogiendo bus de profesores\")\n",
    "\n",
    "\n",
    "class BusAlumnos(CogerBus):\n",
    "    def CogerBus(self):\n",
    "        print(\"Cogiendo bus de alumnos\")\n",
    "\n",
    "\n",
    "class AlumnoBecado(BusAlumnos, BusProfesores):\n",
    "    pass\n",
    "\n",
    "\n",
    "class ProfesorAfectado(BusProfesores, BusAlumnos):\n",
    "    pass"
   ]
  },
  {
   "cell_type": "markdown",
   "metadata": {},
   "source": [
    "Tenemos una situación donde ambos AlumnoBecado y ProfesorAfectado heredan de dos clases que tienen un método con el mismo nombre. En C# esto sería un error, pero en Python no lo es. Al ejecutar el siguiente código:"
   ]
  },
  {
   "cell_type": "code",
   "execution_count": null,
   "metadata": {},
   "outputs": [],
   "source": [
    "def mainEscenario():\n",
    "  \n",
    "    alumnoBecado = AlumnoBecado()\n",
    "    alumnoBecado.CogerBus()\n",
    "\n",
    "    profesorAfectado = ProfesorAfectado()\n",
    "    profesorAfectado.CogerBus()\n",
    "\n",
    "mainEscenario()"
   ]
  },
  {
   "cell_type": "markdown",
   "metadata": {},
   "source": [
    "En ambos casos, usan el metodo del cual heredaron primero. Esto se conoce como el problema del diamante, y python lo resuelve con el método de resolución de orden de prioridad de clases (MRO). Y puede traer resultados inesperados."
   ]
  },
  {
   "cell_type": "markdown",
   "metadata": {},
   "source": [
    "Si en cambio, se quiere que el método especifico sea llamado, se puede hacer de la siguiente manera:\n",
    "\n",
    "```python\n",
    "class AlumnoBecado(BusAlumnos, BusProfesores):\n",
    "    CogerBus = BusProfesores.CogerBus\n",
    "```\n",
    "\n",
    "Aunque python no da error, es importante tener en cuenta que puede traer resultados inesperados, por lo que es importante tener en cuenta el orden de herencia."
   ]
  },
  {
   "cell_type": "markdown",
   "metadata": {},
   "source": [
    "## Ejemplo de Composición "
   ]
  },
  {
   "cell_type": "markdown",
   "metadata": {},
   "source": [
    "En python se puede hacer uso de la composición para evitar ciertos problemas que se presentan con la herencia múltiple."
   ]
  },
  {
   "cell_type": "code",
   "execution_count": null,
   "metadata": {},
   "outputs": [],
   "source": [
    "class AlumnoAyudanteComposition:\n",
    "    def __init__(self, nombre, salario_profesor, horasClase):\n",
    "        self.estudiante = Estudiante(nombre, 0, horasClase)\n",
    "        self.docente = Docente()\n",
    "        self.asalariado = Asalariado()\n",
    "        self.SalarioProfesor = salario_profesor\n",
    "\n",
    "    def cobrar_salario(self):\n",
    "        self.asalariado.cobrar_salario()\n",
    "        self.estudiante.cobrar_salario_estudiante()\n",
    "\n",
    "    def recibir_clase(self):\n",
    "        self.estudiante.recibir_clase()"
   ]
  },
  {
   "cell_type": "markdown",
   "metadata": {},
   "source": [
    "Si hubiesemos tenido que Asalariado y Estudiantes tuvieran el mismo metodo de cobrar salario, se podria haber hecho uso de la composición para evitar problemas de ambiguedad e incluso definir una nueva forma de cobrar salario de ambos."
   ]
  },
  {
   "cell_type": "code",
   "execution_count": null,
   "metadata": {},
   "outputs": [],
   "source": [
    "def mainComposicion():\n",
    "\n",
    "    AlumnoAyudanteComposition1 = AlumnoAyudanteComposition(\n",
    "        \"Alumno Ayudante 1\", 1000, 10\n",
    "    )\n",
    "\n",
    "    print(\n",
    "        \"Cobrar salario de Alumno Ayudante 1:\"\n",
    "    )\n",
    "    AlumnoAyudanteComposition1.cobrar_salario()\n",
    "    \n",
    "    print(\n",
    "        f\"Ayudante es subclase de estudiante? {issubclass(AlumnoAyudanteComposition, Estudiante)}\"\n",
    "    )\n",
    "    print(\n",
    "        f\"Ayudante es subclase de docente? {issubclass(AlumnoAyudanteComposition, Docente)}\"\n",
    "    )\n",
    "    print(\n",
    "        f\"Ayudante es subclase de asalariado? {issubclass(AlumnoAyudanteComposition, Asalariado)}\"\n",
    "    )\n",
    "\n",
    "mainComposicion()"
   ]
  },
  {
   "cell_type": "markdown",
   "metadata": {},
   "source": [
    "Aunque puede traer efectos no deseados, ya que la Composición es una relación de \"tiene un\", y no de \"es un\", por lo que se debe tener cuidado al usarla, pues no es una subclase."
   ]
  }
 ],
 "metadata": {
  "kernelspec": {
   "display_name": "base",
   "language": "python",
   "name": "python3"
  },
  "language_info": {
   "codemirror_mode": {
    "name": "ipython",
    "version": 3
   },
   "file_extension": ".py",
   "mimetype": "text/x-python",
   "name": "python",
   "nbconvert_exporter": "python",
   "pygments_lexer": "ipython3",
   "version": "3.11.5"
  }
 },
 "nbformat": 4,
 "nbformat_minor": 2
}
