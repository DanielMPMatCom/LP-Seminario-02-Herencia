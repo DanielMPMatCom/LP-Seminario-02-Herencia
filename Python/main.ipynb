{
 "cells": [
  {
   "cell_type": "markdown",
   "metadata": {},
   "source": [
    "# Implementación usando Python"
   ]
  },
  {
   "cell_type": "code",
   "execution_count": 27,
   "metadata": {},
   "outputs": [],
   "source": [
    "class Persona:\n",
    "    def __init__(self, nombre):\n",
    "        self.Nombre = nombre\n",
    "\n",
    "\n",
    "class Plantilla(Persona):\n",
    "    def __init__(self, nombre, salario):\n",
    "        Persona.__init__(self,nombre)\n",
    "        self.Salario = salario\n",
    "    def cobrar_salario(self):\n",
    "        print(\"Cobrando salario\")\n",
    "\n",
    "\n",
    "class Impartidor(Persona):\n",
    "    def __init__(self, nombre, horasImpartirClase):\n",
    "        Persona.__init__(self, nombre)\n",
    "        self.horasImpartirClase = horasImpartirClase\n",
    "    def dar_clase(self):\n",
    "        print(\"Impartiendo clases\")\n",
    "\n",
    "\n",
    "class Recibidor(Persona):\n",
    "    def __init__(self, nombre, horasRecibirClase):\n",
    "        super().__init__(nombre) \n",
    "        self.horasRecibirClase = horasRecibirClase\n",
    "\n",
    "    def recibir_clase(self):\n",
    "        print(\"Recibiendo clases\")\n",
    "\n",
    "\n",
    "class Trabajador(Plantilla):\n",
    "    def __init__(self, nombre, salario):\n",
    "        super().__init__(nombre, salario)\n",
    "\n",
    "\n",
    "class Profesor(Trabajador, Impartidor):\n",
    "    def __init__(self, nombre, salario, horasImpartirClase):\n",
    "        (Trabajador).__init__(self, nombre, salario)\n",
    "        (Impartidor).__init__(self, nombre, horasImpartirClase)\n",
    "\n",
    "\n",
    "class ProfesorAdiestrado(Profesor, Recibidor):\n",
    "    def __init__(self, nombre, salario, horasRecibirClase, horasImpartirClase):\n",
    "        (Profesor).__init__(self, nombre, salario, horasImpartirClase)\n",
    "        (Recibidor).__init__(self, nombre, horasRecibirClase)\n",
    "        \n",
    "\n",
    "class Estudiante(Recibidor, Plantilla):\n",
    "    def __init__(self, nombre, salario, horasRecibirClase):\n",
    "        (Plantilla).__init__(self, nombre, salario)\n",
    "        (Recibidor).__init__(self, nombre, horasRecibirClase)\n",
    "        \n",
    "    def recibir_clase(self):\n",
    "        print(\"Recibiendo clase de estudiante\")\n",
    "\n",
    "\n",
    "class AlumnoAyudante(Estudiante, Impartidor):\n",
    "    def __init__(self, nombre, salario, horasImpartirClase, horasRecibirClase):\n",
    "        (Estudiante).__init__(self, nombre, salario, horasRecibirClase)\n",
    "        (Impartidor).__init__(self, nombre, horasImpartirClase)\n",
    "\n",
    "    def impartir_clase(self):\n",
    "        print(\"Impartiendo clase de alumno ayudante\")"
   ]
  },
  {
   "cell_type": "code",
   "execution_count": null,
   "metadata": {},
   "outputs": [],
   "source": []
  },
  {
   "cell_type": "markdown",
   "metadata": {},
   "source": [
    "## Probando la implementación"
   ]
  },
  {
   "cell_type": "code",
   "execution_count": 28,
   "metadata": {},
   "outputs": [
    {
     "ename": "TypeError",
     "evalue": "Plantilla.__init__() missing 1 required positional argument: 'salario'",
     "output_type": "error",
     "traceback": [
      "\u001b[1;31m---------------------------------------------------------------------------\u001b[0m",
      "\u001b[1;31mTypeError\u001b[0m                                 Traceback (most recent call last)",
      "Cell \u001b[1;32mIn[28], line 31\u001b[0m\n\u001b[0;32m     24\u001b[0m     \u001b[38;5;28mprint\u001b[39m(\n\u001b[0;32m     25\u001b[0m         \u001b[38;5;124mf\u001b[39m\u001b[38;5;124m\"\u001b[39m\u001b[38;5;124mAyudante es subclase de impartidor? \u001b[39m\u001b[38;5;132;01m{\u001b[39;00m\u001b[38;5;28missubclass\u001b[39m(AlumnoAyudante1\u001b[38;5;241m.\u001b[39m\u001b[38;5;18m__class__\u001b[39m,\u001b[38;5;250m \u001b[39mImpartidor)\u001b[38;5;132;01m}\u001b[39;00m\u001b[38;5;124m\"\u001b[39m\n\u001b[0;32m     26\u001b[0m     )\n\u001b[0;32m     27\u001b[0m     \u001b[38;5;28mprint\u001b[39m(\n\u001b[0;32m     28\u001b[0m         \u001b[38;5;124mf\u001b[39m\u001b[38;5;124m\"\u001b[39m\u001b[38;5;124mAyudante es subclase de trabajador? \u001b[39m\u001b[38;5;132;01m{\u001b[39;00m\u001b[38;5;28missubclass\u001b[39m(AlumnoAyudante1\u001b[38;5;241m.\u001b[39m\u001b[38;5;18m__class__\u001b[39m,\u001b[38;5;250m \u001b[39mTrabajador)\u001b[38;5;132;01m}\u001b[39;00m\u001b[38;5;124m\"\u001b[39m\n\u001b[0;32m     29\u001b[0m     )\n\u001b[1;32m---> 31\u001b[0m main()\n",
      "Cell \u001b[1;32mIn[28], line 13\u001b[0m, in \u001b[0;36mmain\u001b[1;34m()\u001b[0m\n\u001b[0;32m     12\u001b[0m \u001b[38;5;28;01mdef\u001b[39;00m \u001b[38;5;21mmain\u001b[39m():\n\u001b[1;32m---> 13\u001b[0m     AlumnoAyudante1 \u001b[38;5;241m=\u001b[39m AlumnoAyudante(\u001b[38;5;124m\"\u001b[39m\u001b[38;5;124mAlumno Ayudante 1\u001b[39m\u001b[38;5;124m\"\u001b[39m, \u001b[38;5;241m1000\u001b[39m, \u001b[38;5;241m10\u001b[39m, \u001b[38;5;241m10\u001b[39m)\n\u001b[0;32m     14\u001b[0m     \u001b[38;5;28mprint\u001b[39m(\u001b[38;5;124mf\u001b[39m\u001b[38;5;124m\"\u001b[39m\u001b[38;5;124mNombre: \u001b[39m\u001b[38;5;132;01m{\u001b[39;00mAlumnoAyudante1\u001b[38;5;241m.\u001b[39mNombre\u001b[38;5;132;01m}\u001b[39;00m\u001b[38;5;124m\"\u001b[39m) \u001b[38;5;66;03m#No ocurre error de ambiguedad\u001b[39;00m\n\u001b[0;32m     16\u001b[0m     testImpartirClase(AlumnoAyudante1)\n",
      "Cell \u001b[1;32mIn[27], line 59\u001b[0m, in \u001b[0;36mAlumnoAyudante.__init__\u001b[1;34m(self, nombre, salario, horasImpartirClase, horasRecibirClase)\u001b[0m\n\u001b[0;32m     58\u001b[0m \u001b[38;5;28;01mdef\u001b[39;00m \u001b[38;5;21m__init__\u001b[39m(\u001b[38;5;28mself\u001b[39m, nombre, salario, horasImpartirClase, horasRecibirClase):\n\u001b[1;32m---> 59\u001b[0m     (Estudiante)\u001b[38;5;241m.\u001b[39m\u001b[38;5;21m__init__\u001b[39m(\u001b[38;5;28mself\u001b[39m, nombre, salario, horasRecibirClase)\n\u001b[0;32m     60\u001b[0m     (Impartidor)\u001b[38;5;241m.\u001b[39m\u001b[38;5;21m__init__\u001b[39m(\u001b[38;5;28mself\u001b[39m, nombre, horasImpartirClase)\n",
      "Cell \u001b[1;32mIn[27], line 51\u001b[0m, in \u001b[0;36mEstudiante.__init__\u001b[1;34m(self, nombre, salario, horasRecibirClase)\u001b[0m\n\u001b[0;32m     49\u001b[0m \u001b[38;5;28;01mdef\u001b[39;00m \u001b[38;5;21m__init__\u001b[39m(\u001b[38;5;28mself\u001b[39m, nombre, salario, horasRecibirClase):\n\u001b[0;32m     50\u001b[0m     (Plantilla)\u001b[38;5;241m.\u001b[39m\u001b[38;5;21m__init__\u001b[39m(\u001b[38;5;28mself\u001b[39m, nombre, salario)\n\u001b[1;32m---> 51\u001b[0m     (Recibidor)\u001b[38;5;241m.\u001b[39m\u001b[38;5;21m__init__\u001b[39m(\u001b[38;5;28mself\u001b[39m, nombre, horasRecibirClase)\n",
      "Cell \u001b[1;32mIn[27], line 24\u001b[0m, in \u001b[0;36mRecibidor.__init__\u001b[1;34m(self, nombre, horasRecibirClase)\u001b[0m\n\u001b[0;32m     23\u001b[0m \u001b[38;5;28;01mdef\u001b[39;00m \u001b[38;5;21m__init__\u001b[39m(\u001b[38;5;28mself\u001b[39m, nombre, horasRecibirClase):\n\u001b[1;32m---> 24\u001b[0m     \u001b[38;5;28msuper\u001b[39m()\u001b[38;5;241m.\u001b[39m\u001b[38;5;21m__init__\u001b[39m(nombre) \n\u001b[0;32m     25\u001b[0m     \u001b[38;5;28mself\u001b[39m\u001b[38;5;241m.\u001b[39mhorasRecibirClase \u001b[38;5;241m=\u001b[39m horasRecibirClase\n",
      "\u001b[1;31mTypeError\u001b[0m: Plantilla.__init__() missing 1 required positional argument: 'salario'"
     ]
    }
   ],
   "source": [
    "def testImpartirClase(profesor: Profesor):\n",
    "    profesor.impartir_clase() # Impartiendo clase de profesor\n",
    "\n",
    "\n",
    "def testAumentoDeHorasClase(profesor: Profesor):\n",
    "    profesor.horasImpartirClase += 1000\n",
    "    print(\n",
    "        f\"Las horas clase del profesor {profesor.Nombre} han aumentado a {profesor.HorasClase}\"\n",
    "    )\n",
    "\n",
    "    \n",
    "def main():\n",
    "    AlumnoAyudante1 = AlumnoAyudante(\"Alumno Ayudante 1\", 1000, 10, 10)\n",
    "    print(f\"Nombre: {AlumnoAyudante1.Nombre}\") #No ocurre error de ambiguedad\n",
    "    \n",
    "    testImpartirClase(AlumnoAyudante1)\n",
    "    trabajador = Trabajador(\"Trabajador 1\", 1000)\n",
    "    trabajador.horasImpartirClase = 10\n",
    "    testAumentoDeHorasClase(trabajador)\n",
    "\n",
    "    print(\n",
    "        f\"Ayudante es subclase de estudiante? {issubclass(AlumnoAyudante1.__class__, Estudiante)}\"\n",
    "    )\n",
    "    print(\n",
    "        f\"Ayudante es subclase de impartidor? {issubclass(AlumnoAyudante1.__class__, Impartidor)}\"\n",
    "    )\n",
    "    print(\n",
    "        f\"Ayudante es subclase de trabajador? {issubclass(AlumnoAyudante1.__class__, Trabajador)}\"\n",
    "    )\n",
    "   \n",
    "main()"
   ]
  },
  {
   "cell_type": "markdown",
   "metadata": {},
   "source": [
    "A pesar de que Alumno Ayudante no sea profesor, ni herede de la clase Profesor, se puede utilizar el método testImpartirClase.\n"
   ]
  },
  {
   "cell_type": "markdown",
   "metadata": {},
   "source": [
    "En Python también ocurren problemas de ambigüedad, veamos el siguiente ejemplo basando en el escenario planteado en C#:\n",
    "\n",
    "**Escenario:** Los alumnos becados tienen asignado un **bus escolar** para ellos, y los profesores tienen asignado **otro bus**,\n",
    "ambos protocolos de coger el bus **son diferentes**, pero el nombre del método es el mismo. Luego de un tiempo, la dirección decide \n",
    "que ambos grupos de personas pueden coger **el bus que deseen**, por lo que se incluye que se herede de ambas clases."
   ]
  },
  {
   "cell_type": "code",
   "execution_count": null,
   "metadata": {},
   "outputs": [],
   "source": [
    "class CogerBus:\n",
    "    def CogerBus(self):\n",
    "        print(\"Cogiendo bus\")\n",
    "\n",
    "\n",
    "class BusProfesores(CogerBus):\n",
    "    def CogerBus(self):\n",
    "        print(\"Cogiendo bus de profesores\")\n",
    "\n",
    "\n",
    "class BusAlumnos(CogerBus):\n",
    "    def CogerBus(self):\n",
    "        print(\"Cogiendo bus de alumnos\")\n",
    "\n",
    "\n",
    "class AlumnoBecado(BusAlumnos, BusProfesores):\n",
    "    pass\n",
    "\n",
    "\n",
    "class ProfesorAfectado(BusProfesores, BusAlumnos):\n",
    "    pass"
   ]
  },
  {
   "cell_type": "markdown",
   "metadata": {},
   "source": [
    "Tenemos una situación donde ambos AlumnoBecado y ProfesorAfectado heredan de dos clases que tienen un método con el mismo nombre. En C# esto sería un error, pero en Python no lo es. Al ejecutar el siguiente código:"
   ]
  },
  {
   "cell_type": "code",
   "execution_count": null,
   "metadata": {},
   "outputs": [
    {
     "name": "stdout",
     "output_type": "stream",
     "text": [
      "Cogiendo bus de alumnos\n",
      "Cogiendo bus de profesores\n"
     ]
    }
   ],
   "source": [
    "def mainEscenario():\n",
    "  \n",
    "    alumnoBecado = AlumnoBecado()\n",
    "    alumnoBecado.CogerBus()\n",
    "\n",
    "    profesorAfectado = ProfesorAfectado()\n",
    "    profesorAfectado.CogerBus()\n",
    "\n",
    "mainEscenario()"
   ]
  },
  {
   "cell_type": "markdown",
   "metadata": {},
   "source": [
    "En ambos casos, usan el método del cual heredaron primero. Esto se conoce como el problema del diamante, y python lo resuelve con el método de resolución de orden de prioridad de clases (MRO). Y puede traer resultados inesperados."
   ]
  },
  {
   "cell_type": "markdown",
   "metadata": {},
   "source": [
    "Si en cambio, se quiere que el método específico sea llamado, se puede hacer de la siguiente manera:\n",
    "\n",
    "```python\n",
    "class AlumnoBecado(BusAlumnos, BusProfesores):\n",
    "    CogerBus = BusProfesores.CogerBus\n",
    "```\n",
    "\n",
    "Aunque python no da error, es importante tener en cuenta que puede traer resultados inesperados, por lo que es importante tener en cuenta el orden de herencia."
   ]
  },
  {
   "cell_type": "markdown",
   "metadata": {},
   "source": [
    "## Ejemplo de Composición "
   ]
  },
  {
   "cell_type": "markdown",
   "metadata": {},
   "source": [
    "En python se puede hacer uso de la composición para evitar ciertos problemas que se presentan con la herencia múltiple."
   ]
  },
  {
   "cell_type": "code",
   "execution_count": null,
   "metadata": {},
   "outputs": [],
   "source": [
    "class AlumnoAyudanteComposition:\n",
    "    def __init__(self, nombre, salario_profesor, horasClase):\n",
    "        self.estudiante = Estudiante(nombre, 0, horasClase)\n",
    "        self.profesor = Profesor(nombre, salario_profesor, horasClase)\n",
    "        self.SalarioProfesor = salario_profesor\n",
    "\n",
    "    def cobrar_salario(self):\n",
    "        self.profesor.cobrar_salario()\n",
    "        self.estudiante.cobrar_salario()\n",
    "\n",
    "    def impartir_clase(self):\n",
    "        self.profesor.impartir_clase()\n",
    "\n",
    "    def recibir_clase(self):\n",
    "        self.estudiante.recibir_clase()"
   ]
  },
  {
   "cell_type": "markdown",
   "metadata": {},
   "source": [
    "Ahora tenemos un nuevo objeto que tiene comportamiento de profesor y de estudiante, y no hereda de Profesor ni de Estudiante. Puede impartir clases y a su vez recibir clases.\n"
   ]
  },
  {
   "cell_type": "code",
   "execution_count": null,
   "metadata": {},
   "outputs": [
    {
     "name": "stdout",
     "output_type": "stream",
     "text": [
      "Cobrar salario de Alumno Ayudante 1:\n",
      "Cobrando salario\n",
      "Cobrando salario\n",
      "Ayudante es subclase de estudiante? False\n",
      "Ayudante es subclase de impartidor? False\n"
     ]
    }
   ],
   "source": [
    "def mainComposicion():\n",
    "\n",
    "    AlumnoAyudanteComposition1 = AlumnoAyudanteComposition(\n",
    "        \"Alumno Ayudante 1\", 1000, 10\n",
    "    )\n",
    "\n",
    "    print(\n",
    "        \"Cobrar salario de Alumno Ayudante 1:\"\n",
    "    )\n",
    "    AlumnoAyudanteComposition1.cobrar_salario()\n",
    "    \n",
    "    print(\n",
    "        f\"Ayudante es subclase de estudiante? {issubclass(AlumnoAyudanteComposition, Estudiante)}\"\n",
    "    )\n",
    "    print(\n",
    "        f\"Ayudante es subclase de impartidor? {issubclass(AlumnoAyudanteComposition, Impartidor)}\"\n",
    "    )\n",
    "\n",
    "mainComposicion()"
   ]
  },
  {
   "cell_type": "markdown",
   "metadata": {},
   "source": [
    "La Composición es una relación de \"tiene un\", y no de \"es un\", por lo que se debe tener cuidado al usarla, pues no es una subclase."
   ]
  }
 ],
 "metadata": {
  "kernelspec": {
   "display_name": "base",
   "language": "python",
   "name": "python3"
  },
  "language_info": {
   "codemirror_mode": {
    "name": "ipython",
    "version": 3
   },
   "file_extension": ".py",
   "mimetype": "text/x-python",
   "name": "python",
   "nbconvert_exporter": "python",
   "pygments_lexer": "ipython3",
   "version": "3.11.5"
  }
 },
 "nbformat": 4,
 "nbformat_minor": 2
}
